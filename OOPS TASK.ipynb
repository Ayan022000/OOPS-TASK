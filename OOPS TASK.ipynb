{
 "cells": [
  {
   "cell_type": "markdown",
   "id": "38b1c4c9",
   "metadata": {},
   "source": [
    "# Q 1."
   ]
  },
  {
   "cell_type": "markdown",
   "id": "59164977",
   "metadata": {},
   "source": [
    "## Create a vehicle class with an init method having instance variables as name_of_vehicle, max_speed and average_of_vehicle."
   ]
  },
  {
   "cell_type": "code",
   "execution_count": 1,
   "id": "12a99ca1",
   "metadata": {},
   "outputs": [],
   "source": [
    "class Vehicle:\n",
    "    def __init__(self, name_of_vehicle, max_speed, average_of_vehicle):\n",
    "        self.name_of_vehicle = name_of_vehicle\n",
    "        self.max_speed = max_speed\n",
    "        self.average_of_vehicle = average_of_vehicle\n"
   ]
  },
  {
   "cell_type": "code",
   "execution_count": 2,
   "id": "d150e71c",
   "metadata": {},
   "outputs": [
    {
     "name": "stdout",
     "output_type": "stream",
     "text": [
      "Ford Mustang\n",
      "150\n",
      "20\n",
      "25\n"
     ]
    }
   ],
   "source": [
    "car = Vehicle(\"Ford Mustang\", 150, 20)\n",
    "print(car.name_of_vehicle)  \n",
    "print(car.max_speed)        \n",
    "print(car.average_of_vehicle)  \n",
    "\n",
    "car.average_of_vehicle = 25\n",
    "print(car.average_of_vehicle)  "
   ]
  },
  {
   "cell_type": "markdown",
   "id": "982e91b4",
   "metadata": {},
   "source": [
    "# Q 2."
   ]
  },
  {
   "cell_type": "markdown",
   "id": "cd6913dc",
   "metadata": {},
   "source": [
    "## Create a child class car from the vehicle class created in Que 1, which will inherit the vehicle class.Create a method named seating_capacity which takes capacity as an argument and returns the name of the vehicle and its seating capacity."
   ]
  },
  {
   "cell_type": "code",
   "execution_count": 3,
   "id": "09b9bf23",
   "metadata": {},
   "outputs": [],
   "source": [
    "class Car(Vehicle):\n",
    "    def seating_capacity(self, capacity):\n",
    "        return f\"{self.name_of_vehicle} has a seating capacity of {capacity} people.\"\n"
   ]
  },
  {
   "cell_type": "code",
   "execution_count": 4,
   "id": "dc011ea1",
   "metadata": {},
   "outputs": [
    {
     "name": "stdout",
     "output_type": "stream",
     "text": [
      "Toyota Corolla\n",
      "120\n",
      "25\n",
      "Toyota Corolla has a seating capacity of 5 people.\n"
     ]
    }
   ],
   "source": [
    "car = Car(\"Toyota Corolla\", 120, 25)\n",
    "print(car.name_of_vehicle)  \n",
    "print(car.max_speed)        \n",
    "print(car.average_of_vehicle)  \n",
    "\n",
    "print(car.seating_capacity(5))  \n"
   ]
  },
  {
   "cell_type": "markdown",
   "id": "6cf253b3",
   "metadata": {},
   "source": [
    "# Q 3."
   ]
  },
  {
   "cell_type": "markdown",
   "id": "ae8b2c8c",
   "metadata": {},
   "source": [
    "## What is multiple inheritance?"
   ]
  },
  {
   "cell_type": "markdown",
   "id": "2552a5f3",
   "metadata": {},
   "source": [
    "Multiple inheritance is a feature of object-oriented programming languages that allows a class to inherit attributes and methods from more than one parent class. In other words, a subclass can have more than one direct superclass.\n",
    "\n",
    "In multiple inheritance, a subclass is created by combining the attributes and methods of multiple parent classes, allowing it to inherit features from each of them. This can be useful when a class needs to combine functionality from multiple sources, or when there are several related classes that share a common set of features."
   ]
  },
  {
   "cell_type": "code",
   "execution_count": 10,
   "id": "e891db96",
   "metadata": {},
   "outputs": [],
   "source": [
    "class class1:\n",
    "    def test1(self):\n",
    "        print(\"This is class1\")"
   ]
  },
  {
   "cell_type": "code",
   "execution_count": 15,
   "id": "087b1d5a",
   "metadata": {},
   "outputs": [],
   "source": [
    "class class2:\n",
    "    def test2(self):\n",
    "        print(\"This is class2\")"
   ]
  },
  {
   "cell_type": "code",
   "execution_count": 16,
   "id": "85543748",
   "metadata": {},
   "outputs": [],
   "source": [
    "class class3(class1,class2):\n",
    "    pass"
   ]
  },
  {
   "cell_type": "code",
   "execution_count": 17,
   "id": "f5bd2b46",
   "metadata": {},
   "outputs": [
    {
     "name": "stdout",
     "output_type": "stream",
     "text": [
      "This is class1\n",
      "None\n",
      "This is class2\n",
      "None\n"
     ]
    }
   ],
   "source": [
    "t = class3()\n",
    "print(t.test1())\n",
    "print(t.test2())"
   ]
  },
  {
   "cell_type": "markdown",
   "id": "75cc159c",
   "metadata": {},
   "source": [
    "# Q 4."
   ]
  },
  {
   "cell_type": "markdown",
   "id": "88ada4f3",
   "metadata": {},
   "source": [
    "## What are getter and setter in python? Create a class and create a getter and a setter method in this class."
   ]
  },
  {
   "cell_type": "markdown",
   "id": "b480293c",
   "metadata": {},
   "source": [
    "Getter and setter methods are used to access and modify the private attributes of a class respectively.\n",
    "\n",
    "A getter method is used to retrieve the value of a private attribute while a setter method is used to set the value of a private attribute.\n",
    "\n",
    "Here's an example class with a private attribute name, and its corresponding getter and setter methods:"
   ]
  },
  {
   "cell_type": "code",
   "execution_count": 1,
   "id": "e2187871",
   "metadata": {},
   "outputs": [],
   "source": [
    "class person:\n",
    "    def __init__(self, name):\n",
    "        self.__name = name\n",
    "        \n",
    "    def get_name(self):\n",
    "        return self.__name\n",
    "    \n",
    "    def set_name(self, name):\n",
    "        self.__name = name"
   ]
  },
  {
   "cell_type": "code",
   "execution_count": 2,
   "id": "0340b8b0",
   "metadata": {},
   "outputs": [],
   "source": [
    "a = person('Ayan')"
   ]
  },
  {
   "cell_type": "code",
   "execution_count": 3,
   "id": "e138ebae",
   "metadata": {},
   "outputs": [
    {
     "data": {
      "text/plain": [
       "'Ayan'"
      ]
     },
     "execution_count": 3,
     "metadata": {},
     "output_type": "execute_result"
    }
   ],
   "source": [
    "a.get_name()"
   ]
  },
  {
   "cell_type": "code",
   "execution_count": 4,
   "id": "7fdbe0b9",
   "metadata": {},
   "outputs": [],
   "source": [
    "a.set_name(\"john\")"
   ]
  },
  {
   "cell_type": "code",
   "execution_count": 5,
   "id": "b103a029",
   "metadata": {},
   "outputs": [
    {
     "data": {
      "text/plain": [
       "'john'"
      ]
     },
     "execution_count": 5,
     "metadata": {},
     "output_type": "execute_result"
    }
   ],
   "source": [
    "a.get_name()"
   ]
  },
  {
   "cell_type": "markdown",
   "id": "fea64f3f",
   "metadata": {},
   "source": [
    "# Q 5."
   ]
  },
  {
   "cell_type": "markdown",
   "id": "09f35e08",
   "metadata": {},
   "source": [
    "# What is method overriding in python? Write a python code to demonstrate method overriding."
   ]
  },
  {
   "cell_type": "markdown",
   "id": "54d7530f",
   "metadata": {},
   "source": [
    "Method overriding in Python is a technique where a subclass provides a different implementation of a method that is already defined in its superclass.\n",
    "\n",
    "In Python, method overriding can be achieved simply by defining a method with the same name in the subclass as the one in the superclass. When the method is called on an instance of the subclass, the subclass method will be executed instead of the superclass method.\n",
    "\n",
    "Here's an example code to demonstrate method overriding:"
   ]
  },
  {
   "cell_type": "code",
   "execution_count": 7,
   "id": "b735285e",
   "metadata": {},
   "outputs": [
    {
     "name": "stdout",
     "output_type": "stream",
     "text": [
      "This animal moves\n",
      "This dog runs\n"
     ]
    }
   ],
   "source": [
    "class Animal:\n",
    "    def move(self):\n",
    "        print(\"This animal moves\")\n",
    "\n",
    "class Dog(Animal):\n",
    "    def move(self):\n",
    "        print(\"This dog runs\")\n",
    "\n",
    "\n",
    "animal = Animal()\n",
    "animal.move()\n",
    "\n",
    "\n",
    "dog = Dog()\n",
    "dog.move()\n"
   ]
  }
 ],
 "metadata": {
  "kernelspec": {
   "display_name": "Python 3 (ipykernel)",
   "language": "python",
   "name": "python3"
  },
  "language_info": {
   "codemirror_mode": {
    "name": "ipython",
    "version": 3
   },
   "file_extension": ".py",
   "mimetype": "text/x-python",
   "name": "python",
   "nbconvert_exporter": "python",
   "pygments_lexer": "ipython3",
   "version": "3.9.13"
  }
 },
 "nbformat": 4,
 "nbformat_minor": 5
}
